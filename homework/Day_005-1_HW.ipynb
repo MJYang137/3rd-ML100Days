{
 "cells": [
  {
   "cell_type": "code",
   "execution_count": 1,
   "metadata": {},
   "outputs": [
    {
     "name": "stdout",
     "output_type": "stream",
     "text": [
      "  Country  Population\n",
      "0       A      741118\n",
      "1       B      743330\n",
      "2       C      707955\n",
      "3       D       66374\n",
      "4       E      877189\n",
      "5       F      649166\n",
      "6       G      786443\n",
      "Country            E\n",
      "Population    877189\n",
      "Name: 4, dtype: object\n"
     ]
    }
   ],
   "source": [
    "import os\n",
    "import matplotlib.pyplot as plt\n",
    "import numpy as np\n",
    "import pandas as pd\n",
    "from pandas import Series, DataFrame\n",
    "\n",
    "#=====================================5-1\n",
    "data = {'Country': ['A','B','C','D','E','F','G'],\n",
    "        'Population': np.random.randint(1e0,1e6,size=7)}\n",
    "data = pd.DataFrame(data)\n",
    "print(data)\n",
    "#\n",
    "#data = data.reset_index() #make the rows become renumbered, starting at 0\n",
    "maxpopulation = data.loc[data['Population'].idxmax()]\n",
    "print(maxpopulation)"
   ]
  },
  {
   "cell_type": "code",
   "execution_count": null,
   "metadata": {
    "collapsed": true
   },
   "outputs": [],
   "source": []
  }
 ],
 "metadata": {
  "kernelspec": {
   "display_name": "Python 3",
   "language": "python",
   "name": "python3"
  },
  "language_info": {
   "codemirror_mode": {
    "name": "ipython",
    "version": 3
   },
   "file_extension": ".py",
   "mimetype": "text/x-python",
   "name": "python",
   "nbconvert_exporter": "python",
   "pygments_lexer": "ipython3",
   "version": "3.6.3"
  }
 },
 "nbformat": 4,
 "nbformat_minor": 2
}
