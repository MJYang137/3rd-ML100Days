{
 "cells": [
  {
   "cell_type": "code",
   "execution_count": null,
   "metadata": {
    "collapsed": true
   },
   "outputs": [],
   "source": [
    "###1. 模型的泛化能力 (generalization) 是指什麼？\n",
    "\n",
    "#是指機器學習演算法對新鮮樣本的適應能力, 簡而言之是模型對看不見的數據的行為.\n",
    "\n",
    "\n",
    "###2. 分類問題與回歸問題分別可用的目標函數有哪些？\n",
    "\n",
    "#分類問題: 交叉熵(cross-entropy)\n",
    "\n",
    "#回歸問題: 平均絕對誤差——L1損失函數, 均方誤差——L2損失函數, Huber損失——平滑平均絕對誤差\n",
    "\n",
    "#"
   ]
  }
 ],
 "metadata": {
  "kernelspec": {
   "display_name": "Python 3",
   "language": "python",
   "name": "python3"
  },
  "language_info": {
   "codemirror_mode": {
    "name": "ipython",
    "version": 3
   },
   "file_extension": ".py",
   "mimetype": "text/x-python",
   "name": "python",
   "nbconvert_exporter": "python",
   "pygments_lexer": "ipython3",
   "version": "3.6.3"
  }
 },
 "nbformat": 4,
 "nbformat_minor": 2
}
