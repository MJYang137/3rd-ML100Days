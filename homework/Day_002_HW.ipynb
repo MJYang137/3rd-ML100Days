{
 "cells": [
  {
   "cell_type": "code",
   "execution_count": null,
   "metadata": {
    "collapsed": true
   },
   "outputs": [],
   "source": [
    "#請找出一個你認為機器學習可以發光發熱的領域並闡述原因?\n",
    "#Ans: 我考慮的領域是神經科學(大腦神經連結)方面, 機器學習可以有很大的幫助.\n",
    "#這個領域有一個研究目標是, 為了釐清神經連結相關的疾病, 科學家想找出不同(譬如階層不同)神經元之間連結的路徑. \n",
    "#這裡的機器學習的機會包括兩個: (1)我能不能給定兩個神經元, 自動辨識出之間的連結(分類)? (2) 給定大量神經元圖像, 能不能自動分群?\n",
    "#生物醫學檢驗儀器的進步給出了大量的圖像資料(光學顯微鏡,功能性磁振造影等..),機器學習可以協助從這些資料得出有意義的資訊. "
   ]
  }
 ],
 "metadata": {
  "kernelspec": {
   "display_name": "Python 3",
   "language": "python",
   "name": "python3"
  },
  "language_info": {
   "codemirror_mode": {
    "name": "ipython",
    "version": 3
   },
   "file_extension": ".py",
   "mimetype": "text/x-python",
   "name": "python",
   "nbconvert_exporter": "python",
   "pygments_lexer": "ipython3",
   "version": "3.6.3"
  }
 },
 "nbformat": 4,
 "nbformat_minor": 2
}
