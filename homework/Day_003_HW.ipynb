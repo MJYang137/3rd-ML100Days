{
 "cells": [
  {
   "cell_type": "code",
   "execution_count": null,
   "metadata": {
    "collapsed": true
   },
   "outputs": [],
   "source": [
    "#請挑選一篇文章閱讀並試著回答\n",
    "#1. 專案的目標？ (要解決什麼問題）\n",
    "#Ans: 我選讀的文章是Google AI Blog 在8月5日的一篇文章標題是:An Interactive, Automated 3D Reconstruction of a Fly Brain\n",
    "#專案的大目標是從一大疊超薄(40nm)的果蠅大腦切片的2D影像產生3D可視化的神經連結.\n",
    "#專案實作上的技術問題是每片切片之間如果有樣本損壞或是每片切片的2D pixel有missing,該如何去填補空缺產生3D圖像?\n",
    "#2. 使用的技術是？ (只需知道名稱即可，例如：使用 CNN 卷積神經網路做影像分類)\n",
    "#Ans: 這篇文章為了解決上述問題, 使用Segmetation-Enhanced CycleGAN (SEGAN) 來hallucinate(幻想)遺失的連結.\n",
    "#SEGAN是一種特別用於做image segmentation用途的GAN(生成式對抗網路).\n",
    "#3. 資料來源？\n",
    "#Ans: 果蠅大腦切片與TEM影像來自 Howard Hughes Medical Institute (HHMI)與Cambridge University."
   ]
  }
 ],
 "metadata": {
  "kernelspec": {
   "display_name": "Python 3",
   "language": "python",
   "name": "python3"
  },
  "language_info": {
   "codemirror_mode": {
    "name": "ipython",
    "version": 3
   },
   "file_extension": ".py",
   "mimetype": "text/x-python",
   "name": "python",
   "nbconvert_exporter": "python",
   "pygments_lexer": "ipython3",
   "version": "3.6.3"
  }
 },
 "nbformat": 4,
 "nbformat_minor": 2
}
